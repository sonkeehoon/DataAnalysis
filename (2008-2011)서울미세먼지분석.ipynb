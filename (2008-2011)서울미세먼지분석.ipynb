{
 "cells": [
  {
   "cell_type": "markdown",
   "id": "50409c63",
   "metadata": {},
   "source": [
    "# 혼자 해보는 데이터분석 연습"
   ]
  },
  {
   "cell_type": "markdown",
   "id": "92c6cb42",
   "metadata": {},
   "source": [
    "### 2008년-2011년 서울특별시 (초)미세먼지 데이터분석\n",
    "- 작성자 : 손기훈\n",
    "- 유튜브나 온라인 강의를 따라 친 것이 아닌 스스로 해보는 분석입니다.\n",
    "- 간단한 데이터 핸들링 능력을 증명하기 위한 예시와 코드입니다."
   ]
  },
  {
   "cell_type": "markdown",
   "id": "8f0995e5",
   "metadata": {},
   "source": [
    "### 기본 패키지 불러오기"
   ]
  },
  {
   "cell_type": "code",
   "execution_count": 2,
   "id": "e5cf5a37",
   "metadata": {},
   "outputs": [],
   "source": [
    "import pandas as pd\n",
    "import numpy as np"
   ]
  },
  {
   "cell_type": "markdown",
   "id": "ff791875",
   "metadata": {},
   "source": [
    "### matplotlib.pyplot 에서 한글폰트 깨짐 방지"
   ]
  },
  {
   "cell_type": "code",
   "execution_count": 3,
   "id": "7f8596b1",
   "metadata": {},
   "outputs": [],
   "source": [
    "import matplotlib.pyplot as plt\n",
    "plt.rcParams['font.family'] = 'Malgun Gothic'\n",
    "plt.rcParams['axes.unicode_minus'] = False"
   ]
  },
  {
   "cell_type": "markdown",
   "id": "6f4d46ad",
   "metadata": {},
   "source": [
    "### 데이터 불러오기 및 확인"
   ]
  },
  {
   "cell_type": "code",
   "execution_count": 4,
   "id": "05ae9fa9",
   "metadata": {
    "scrolled": true
   },
   "outputs": [],
   "source": [
    "data = pd.read_csv(\"서울특별시_시간별 (초)미세먼지_20221231/서울시 대기질 자료 제공_2008-2011.csv\", encoding=\"cp949\")"
   ]
  },
  {
   "cell_type": "code",
   "execution_count": 6,
   "id": "4ef784dd",
   "metadata": {
    "scrolled": true
   },
   "outputs": [
    {
     "data": {
      "text/html": [
       "<div>\n",
       "<style scoped>\n",
       "    .dataframe tbody tr th:only-of-type {\n",
       "        vertical-align: middle;\n",
       "    }\n",
       "\n",
       "    .dataframe tbody tr th {\n",
       "        vertical-align: top;\n",
       "    }\n",
       "\n",
       "    .dataframe thead th {\n",
       "        text-align: right;\n",
       "    }\n",
       "</style>\n",
       "<table border=\"1\" class=\"dataframe\">\n",
       "  <thead>\n",
       "    <tr style=\"text-align: right;\">\n",
       "      <th></th>\n",
       "      <th>일시</th>\n",
       "      <th>구분</th>\n",
       "      <th>미세먼지(PM10)</th>\n",
       "      <th>초미세먼지(PM25)</th>\n",
       "    </tr>\n",
       "  </thead>\n",
       "  <tbody>\n",
       "    <tr>\n",
       "      <th>0</th>\n",
       "      <td>2011-12-31 23:00</td>\n",
       "      <td>평균</td>\n",
       "      <td>89.0</td>\n",
       "      <td>61.0</td>\n",
       "    </tr>\n",
       "    <tr>\n",
       "      <th>1</th>\n",
       "      <td>2011-12-31 23:00</td>\n",
       "      <td>강남구</td>\n",
       "      <td>91.0</td>\n",
       "      <td>58.0</td>\n",
       "    </tr>\n",
       "    <tr>\n",
       "      <th>2</th>\n",
       "      <td>2011-12-31 23:00</td>\n",
       "      <td>강동구</td>\n",
       "      <td>89.0</td>\n",
       "      <td>59.0</td>\n",
       "    </tr>\n",
       "    <tr>\n",
       "      <th>3</th>\n",
       "      <td>2011-12-31 23:00</td>\n",
       "      <td>강북구</td>\n",
       "      <td>68.0</td>\n",
       "      <td>49.0</td>\n",
       "    </tr>\n",
       "    <tr>\n",
       "      <th>4</th>\n",
       "      <td>2011-12-31 23:00</td>\n",
       "      <td>강서구</td>\n",
       "      <td>79.0</td>\n",
       "      <td>69.0</td>\n",
       "    </tr>\n",
       "  </tbody>\n",
       "</table>\n",
       "</div>"
      ],
      "text/plain": [
       "                 일시   구분  미세먼지(PM10)  초미세먼지(PM25)\n",
       "0  2011-12-31 23:00   평균        89.0         61.0\n",
       "1  2011-12-31 23:00  강남구        91.0         58.0\n",
       "2  2011-12-31 23:00  강동구        89.0         59.0\n",
       "3  2011-12-31 23:00  강북구        68.0         49.0\n",
       "4  2011-12-31 23:00  강서구        79.0         69.0"
      ]
     },
     "execution_count": 6,
     "metadata": {},
     "output_type": "execute_result"
    }
   ],
   "source": [
    "data.head() # 상위 5개의 row만"
   ]
  },
  {
   "cell_type": "markdown",
   "id": "21fbc403",
   "metadata": {},
   "source": [
    "## 데이터 탐색해보기"
   ]
  },
  {
   "cell_type": "markdown",
   "id": "4017661c",
   "metadata": {},
   "source": [
    "### 데이터의 개수"
   ]
  },
  {
   "cell_type": "code",
   "execution_count": 10,
   "id": "379d5652",
   "metadata": {
    "scrolled": true
   },
   "outputs": [
    {
     "name": "stdout",
     "output_type": "stream",
     "text": [
      "데이터프레임의 행 개수 : 902530\n",
      "서울지역 25개 구를 대상으로 한 조사\n"
     ]
    }
   ],
   "source": [
    "print(f\"데이터프레임의 행 개수 : {len(data)}\")\n",
    "num = len(data['구분'].unique()) - 1 # '평균' 때문에 -1\n",
    "print(f\"서울지역 {num}개 구를 대상으로 한 조사\")"
   ]
  },
  {
   "cell_type": "code",
   "execution_count": 11,
   "id": "67cdead7",
   "metadata": {},
   "outputs": [
    {
     "data": {
      "text/plain": [
       "(902530, 4)"
      ]
     },
     "execution_count": 11,
     "metadata": {},
     "output_type": "execute_result"
    }
   ],
   "source": [
    "data.shape # (행의 개수, 열의 개수)"
   ]
  },
  {
   "cell_type": "markdown",
   "id": "9df05090",
   "metadata": {},
   "source": [
    "### 데이터의 상세 정보"
   ]
  },
  {
   "cell_type": "code",
   "execution_count": 12,
   "id": "15d57a73",
   "metadata": {},
   "outputs": [
    {
     "name": "stdout",
     "output_type": "stream",
     "text": [
      "<class 'pandas.core.frame.DataFrame'>\n",
      "RangeIndex: 902530 entries, 0 to 902529\n",
      "Data columns (total 4 columns):\n",
      " #   Column       Non-Null Count   Dtype  \n",
      "---  ------       --------------   -----  \n",
      " 0   일시           902530 non-null  object \n",
      " 1   구분           902530 non-null  object \n",
      " 2   미세먼지(PM10)   879560 non-null  float64\n",
      " 3   초미세먼지(PM25)  894380 non-null  float64\n",
      "dtypes: float64(2), object(2)\n",
      "memory usage: 27.5+ MB\n"
     ]
    }
   ],
   "source": [
    "data.info()"
   ]
  },
  {
   "cell_type": "markdown",
   "id": "3fcbcb9b",
   "metadata": {},
   "source": [
    "### 데이터의 자료형"
   ]
  },
  {
   "cell_type": "code",
   "execution_count": 13,
   "id": "4d87d0e7",
   "metadata": {},
   "outputs": [
    {
     "data": {
      "text/plain": [
       "일시              object\n",
       "구분              object\n",
       "미세먼지(PM10)     float64\n",
       "초미세먼지(PM25)    float64\n",
       "dtype: object"
      ]
     },
     "execution_count": 13,
     "metadata": {},
     "output_type": "execute_result"
    }
   ],
   "source": [
    "data.dtypes"
   ]
  },
  {
   "cell_type": "markdown",
   "id": "7faa5320",
   "metadata": {},
   "source": [
    "### 데이터의 열"
   ]
  },
  {
   "cell_type": "code",
   "execution_count": 14,
   "id": "c7cde18a",
   "metadata": {},
   "outputs": [
    {
     "data": {
      "text/plain": [
       "Index(['일시', '구분', '미세먼지(PM10)', '초미세먼지(PM25)'], dtype='object')"
      ]
     },
     "execution_count": 14,
     "metadata": {},
     "output_type": "execute_result"
    }
   ],
   "source": [
    "data.columns # 열 출력"
   ]
  },
  {
   "cell_type": "markdown",
   "id": "9ac94c1d",
   "metadata": {},
   "source": [
    "### 기본 통계량"
   ]
  },
  {
   "cell_type": "code",
   "execution_count": 15,
   "id": "b76cedab",
   "metadata": {},
   "outputs": [
    {
     "data": {
      "text/html": [
       "<div>\n",
       "<style scoped>\n",
       "    .dataframe tbody tr th:only-of-type {\n",
       "        vertical-align: middle;\n",
       "    }\n",
       "\n",
       "    .dataframe tbody tr th {\n",
       "        vertical-align: top;\n",
       "    }\n",
       "\n",
       "    .dataframe thead th {\n",
       "        text-align: right;\n",
       "    }\n",
       "</style>\n",
       "<table border=\"1\" class=\"dataframe\">\n",
       "  <thead>\n",
       "    <tr style=\"text-align: right;\">\n",
       "      <th></th>\n",
       "      <th>미세먼지(PM10)</th>\n",
       "      <th>초미세먼지(PM25)</th>\n",
       "    </tr>\n",
       "  </thead>\n",
       "  <tbody>\n",
       "    <tr>\n",
       "      <th>count</th>\n",
       "      <td>879560.000000</td>\n",
       "      <td>894380.000000</td>\n",
       "    </tr>\n",
       "    <tr>\n",
       "      <th>mean</th>\n",
       "      <td>51.062809</td>\n",
       "      <td>26.150294</td>\n",
       "    </tr>\n",
       "    <tr>\n",
       "      <th>std</th>\n",
       "      <td>40.888807</td>\n",
       "      <td>46.058658</td>\n",
       "    </tr>\n",
       "    <tr>\n",
       "      <th>min</th>\n",
       "      <td>1.000000</td>\n",
       "      <td>-273.000000</td>\n",
       "    </tr>\n",
       "    <tr>\n",
       "      <th>25%</th>\n",
       "      <td>27.000000</td>\n",
       "      <td>13.000000</td>\n",
       "    </tr>\n",
       "    <tr>\n",
       "      <th>50%</th>\n",
       "      <td>43.000000</td>\n",
       "      <td>21.000000</td>\n",
       "    </tr>\n",
       "    <tr>\n",
       "      <th>75%</th>\n",
       "      <td>64.000000</td>\n",
       "      <td>33.000000</td>\n",
       "    </tr>\n",
       "    <tr>\n",
       "      <th>max</th>\n",
       "      <td>1354.000000</td>\n",
       "      <td>9940.000000</td>\n",
       "    </tr>\n",
       "  </tbody>\n",
       "</table>\n",
       "</div>"
      ],
      "text/plain": [
       "          미세먼지(PM10)    초미세먼지(PM25)\n",
       "count  879560.000000  894380.000000\n",
       "mean       51.062809      26.150294\n",
       "std        40.888807      46.058658\n",
       "min         1.000000    -273.000000\n",
       "25%        27.000000      13.000000\n",
       "50%        43.000000      21.000000\n",
       "75%        64.000000      33.000000\n",
       "max      1354.000000    9940.000000"
      ]
     },
     "execution_count": 15,
     "metadata": {},
     "output_type": "execute_result"
    }
   ],
   "source": [
    "data.describe()"
   ]
  },
  {
   "cell_type": "markdown",
   "id": "221ba7fe",
   "metadata": {},
   "source": [
    "### '구분' 컬럼에는 무슨구가 있을까?"
   ]
  },
  {
   "cell_type": "code",
   "execution_count": 16,
   "id": "1341cf2b",
   "metadata": {
    "scrolled": true
   },
   "outputs": [
    {
     "data": {
      "text/plain": [
       "array(['평균', '강남구', '강동구', '강북구', '강서구', '관악구', '광진구', '구로구', '금천구',\n",
       "       '노원구', '도봉구', '동대문구', '동작구', '마포구', '서대문구', '서초구', '성동구', '성북구',\n",
       "       '송파구', '양천구', '영등포구', '용산구', '은평구', '종로구', '중구', '중랑구'],\n",
       "      dtype=object)"
      ]
     },
     "execution_count": 16,
     "metadata": {},
     "output_type": "execute_result"
    }
   ],
   "source": [
    "data['구분'].unique() # 가나다순으로 정렬돼있는것 같다"
   ]
  },
  {
   "cell_type": "code",
   "execution_count": 17,
   "id": "3c1b452c",
   "metadata": {},
   "outputs": [
    {
     "data": {
      "text/plain": [
       "평균      35063\n",
       "서초구     35063\n",
       "구로구     35059\n",
       "노원구     35057\n",
       "성동구     35051\n",
       "강북구     35036\n",
       "중구      35023\n",
       "송파구     35020\n",
       "용산구     35010\n",
       "금천구     34983\n",
       "광진구     34976\n",
       "마포구     34942\n",
       "양천구     34907\n",
       "관악구     34881\n",
       "영등포구    34823\n",
       "성북구     34790\n",
       "동작구     34707\n",
       "도봉구     34690\n",
       "중랑구     34678\n",
       "서대문구    34550\n",
       "은평구     34508\n",
       "종로구     34411\n",
       "동대문구    34194\n",
       "강동구     33939\n",
       "강서구     33886\n",
       "강남구     33283\n",
       "Name: 구분, dtype: int64"
      ]
     },
     "execution_count": 17,
     "metadata": {},
     "output_type": "execute_result"
    }
   ],
   "source": [
    "data['구분'].value_counts() # 구 별 데이터의 개수"
   ]
  },
  {
   "cell_type": "markdown",
   "id": "d209ff52",
   "metadata": {},
   "source": [
    "### 상위 5개의 데이터"
   ]
  },
  {
   "cell_type": "code",
   "execution_count": 47,
   "id": "95d23f11",
   "metadata": {},
   "outputs": [
    {
     "data": {
      "text/html": [
       "<div>\n",
       "<style scoped>\n",
       "    .dataframe tbody tr th:only-of-type {\n",
       "        vertical-align: middle;\n",
       "    }\n",
       "\n",
       "    .dataframe tbody tr th {\n",
       "        vertical-align: top;\n",
       "    }\n",
       "\n",
       "    .dataframe thead th {\n",
       "        text-align: right;\n",
       "    }\n",
       "</style>\n",
       "<table border=\"1\" class=\"dataframe\">\n",
       "  <thead>\n",
       "    <tr style=\"text-align: right;\">\n",
       "      <th></th>\n",
       "      <th>일시</th>\n",
       "      <th>구분</th>\n",
       "      <th>미세먼지(PM10)</th>\n",
       "      <th>초미세먼지(PM25)</th>\n",
       "    </tr>\n",
       "  </thead>\n",
       "  <tbody>\n",
       "    <tr>\n",
       "      <th>0</th>\n",
       "      <td>2011-12-31 23:00</td>\n",
       "      <td>평균</td>\n",
       "      <td>89.0</td>\n",
       "      <td>61.0</td>\n",
       "    </tr>\n",
       "    <tr>\n",
       "      <th>1</th>\n",
       "      <td>2011-12-31 23:00</td>\n",
       "      <td>강남구</td>\n",
       "      <td>91.0</td>\n",
       "      <td>58.0</td>\n",
       "    </tr>\n",
       "    <tr>\n",
       "      <th>2</th>\n",
       "      <td>2011-12-31 23:00</td>\n",
       "      <td>강동구</td>\n",
       "      <td>89.0</td>\n",
       "      <td>59.0</td>\n",
       "    </tr>\n",
       "    <tr>\n",
       "      <th>3</th>\n",
       "      <td>2011-12-31 23:00</td>\n",
       "      <td>강북구</td>\n",
       "      <td>68.0</td>\n",
       "      <td>49.0</td>\n",
       "    </tr>\n",
       "    <tr>\n",
       "      <th>4</th>\n",
       "      <td>2011-12-31 23:00</td>\n",
       "      <td>강서구</td>\n",
       "      <td>79.0</td>\n",
       "      <td>69.0</td>\n",
       "    </tr>\n",
       "  </tbody>\n",
       "</table>\n",
       "</div>"
      ],
      "text/plain": [
       "                 일시   구분  미세먼지(PM10)  초미세먼지(PM25)\n",
       "0  2011-12-31 23:00   평균        89.0         61.0\n",
       "1  2011-12-31 23:00  강남구        91.0         58.0\n",
       "2  2011-12-31 23:00  강동구        89.0         59.0\n",
       "3  2011-12-31 23:00  강북구        68.0         49.0\n",
       "4  2011-12-31 23:00  강서구        79.0         69.0"
      ]
     },
     "execution_count": 47,
     "metadata": {},
     "output_type": "execute_result"
    }
   ],
   "source": [
    "data.head()"
   ]
  },
  {
   "cell_type": "markdown",
   "id": "db77d815",
   "metadata": {},
   "source": [
    "### 보고싶은 열만 추출"
   ]
  },
  {
   "cell_type": "code",
   "execution_count": 19,
   "id": "7393c0cf",
   "metadata": {},
   "outputs": [
    {
     "data": {
      "text/html": [
       "<div>\n",
       "<style scoped>\n",
       "    .dataframe tbody tr th:only-of-type {\n",
       "        vertical-align: middle;\n",
       "    }\n",
       "\n",
       "    .dataframe tbody tr th {\n",
       "        vertical-align: top;\n",
       "    }\n",
       "\n",
       "    .dataframe thead th {\n",
       "        text-align: right;\n",
       "    }\n",
       "</style>\n",
       "<table border=\"1\" class=\"dataframe\">\n",
       "  <thead>\n",
       "    <tr style=\"text-align: right;\">\n",
       "      <th></th>\n",
       "      <th>일시</th>\n",
       "      <th>구분</th>\n",
       "    </tr>\n",
       "  </thead>\n",
       "  <tbody>\n",
       "    <tr>\n",
       "      <th>0</th>\n",
       "      <td>2011-12-31 23:00</td>\n",
       "      <td>평균</td>\n",
       "    </tr>\n",
       "    <tr>\n",
       "      <th>1</th>\n",
       "      <td>2011-12-31 23:00</td>\n",
       "      <td>강남구</td>\n",
       "    </tr>\n",
       "    <tr>\n",
       "      <th>2</th>\n",
       "      <td>2011-12-31 23:00</td>\n",
       "      <td>강동구</td>\n",
       "    </tr>\n",
       "    <tr>\n",
       "      <th>3</th>\n",
       "      <td>2011-12-31 23:00</td>\n",
       "      <td>강북구</td>\n",
       "    </tr>\n",
       "    <tr>\n",
       "      <th>4</th>\n",
       "      <td>2011-12-31 23:00</td>\n",
       "      <td>강서구</td>\n",
       "    </tr>\n",
       "  </tbody>\n",
       "</table>\n",
       "</div>"
      ],
      "text/plain": [
       "                 일시   구분\n",
       "0  2011-12-31 23:00   평균\n",
       "1  2011-12-31 23:00  강남구\n",
       "2  2011-12-31 23:00  강동구\n",
       "3  2011-12-31 23:00  강북구\n",
       "4  2011-12-31 23:00  강서구"
      ]
     },
     "execution_count": 19,
     "metadata": {},
     "output_type": "execute_result"
    }
   ],
   "source": [
    "data[['일시','구분']].head() # 열 단위로 데이터를 추출 (전체를 []안에 담아야함)"
   ]
  },
  {
   "cell_type": "markdown",
   "id": "f1747e60",
   "metadata": {},
   "source": [
    "### loc : 행 단위(인덱스)로 데이터 추출"
   ]
  },
  {
   "cell_type": "code",
   "execution_count": 49,
   "id": "2abc3b2f",
   "metadata": {},
   "outputs": [
    {
     "data": {
      "text/plain": [
       "일시             2011-12-31 23:00\n",
       "구분                          강남구\n",
       "미세먼지(PM10)                 91.0\n",
       "초미세먼지(PM25)                58.0\n",
       "Name: 1, dtype: object"
      ]
     },
     "execution_count": 49,
     "metadata": {},
     "output_type": "execute_result"
    }
   ],
   "source": [
    "data.loc[1]\n",
    "# data.loc[-1] : -1이라는 key는 없다"
   ]
  },
  {
   "cell_type": "markdown",
   "id": "e3f773da",
   "metadata": {},
   "source": [
    "### 맨 마지막 행만 보고 싶으면"
   ]
  },
  {
   "cell_type": "code",
   "execution_count": 21,
   "id": "639ddcea",
   "metadata": {},
   "outputs": [
    {
     "name": "stdout",
     "output_type": "stream",
     "text": [
      "(902530, 4)\n"
     ]
    },
    {
     "data": {
      "text/plain": [
       "일시             2008-01-01 1:00\n",
       "구분                         중랑구\n",
       "미세먼지(PM10)                71.0\n",
       "초미세먼지(PM25)               10.0\n",
       "Name: 902529, dtype: object"
      ]
     },
     "execution_count": 21,
     "metadata": {},
     "output_type": "execute_result"
    }
   ],
   "source": [
    "print(data.shape) # 행의 끝 번호\n",
    "row_size = data.shape[0]-1\n",
    "col_size = data.shape[1]-1\n",
    "data.loc[row_size]"
   ]
  },
  {
   "cell_type": "markdown",
   "id": "34eed3e3",
   "metadata": {},
   "source": [
    "### 마지막 5개의 행 출력"
   ]
  },
  {
   "cell_type": "code",
   "execution_count": 22,
   "id": "c3bff7f4",
   "metadata": {},
   "outputs": [
    {
     "data": {
      "text/html": [
       "<div>\n",
       "<style scoped>\n",
       "    .dataframe tbody tr th:only-of-type {\n",
       "        vertical-align: middle;\n",
       "    }\n",
       "\n",
       "    .dataframe tbody tr th {\n",
       "        vertical-align: top;\n",
       "    }\n",
       "\n",
       "    .dataframe thead th {\n",
       "        text-align: right;\n",
       "    }\n",
       "</style>\n",
       "<table border=\"1\" class=\"dataframe\">\n",
       "  <thead>\n",
       "    <tr style=\"text-align: right;\">\n",
       "      <th></th>\n",
       "      <th>일시</th>\n",
       "      <th>구분</th>\n",
       "      <th>미세먼지(PM10)</th>\n",
       "      <th>초미세먼지(PM25)</th>\n",
       "    </tr>\n",
       "  </thead>\n",
       "  <tbody>\n",
       "    <tr>\n",
       "      <th>902525</th>\n",
       "      <td>2008-01-01 1:00</td>\n",
       "      <td>용산구</td>\n",
       "      <td>75.0</td>\n",
       "      <td>18.0</td>\n",
       "    </tr>\n",
       "    <tr>\n",
       "      <th>902526</th>\n",
       "      <td>2008-01-01 1:00</td>\n",
       "      <td>은평구</td>\n",
       "      <td>67.0</td>\n",
       "      <td>19.0</td>\n",
       "    </tr>\n",
       "    <tr>\n",
       "      <th>902527</th>\n",
       "      <td>2008-01-01 1:00</td>\n",
       "      <td>종로구</td>\n",
       "      <td>56.0</td>\n",
       "      <td>11.0</td>\n",
       "    </tr>\n",
       "    <tr>\n",
       "      <th>902528</th>\n",
       "      <td>2008-01-01 1:00</td>\n",
       "      <td>중구</td>\n",
       "      <td>58.0</td>\n",
       "      <td>11.0</td>\n",
       "    </tr>\n",
       "    <tr>\n",
       "      <th>902529</th>\n",
       "      <td>2008-01-01 1:00</td>\n",
       "      <td>중랑구</td>\n",
       "      <td>71.0</td>\n",
       "      <td>10.0</td>\n",
       "    </tr>\n",
       "  </tbody>\n",
       "</table>\n",
       "</div>"
      ],
      "text/plain": [
       "                     일시   구분  미세먼지(PM10)  초미세먼지(PM25)\n",
       "902525  2008-01-01 1:00  용산구        75.0         18.0\n",
       "902526  2008-01-01 1:00  은평구        67.0         19.0\n",
       "902527  2008-01-01 1:00  종로구        56.0         11.0\n",
       "902528  2008-01-01 1:00   중구        58.0         11.0\n",
       "902529  2008-01-01 1:00  중랑구        71.0         10.0"
      ]
     },
     "execution_count": 22,
     "metadata": {},
     "output_type": "execute_result"
    }
   ],
   "source": [
    "data.tail()\n",
    "# iloc부터 내일"
   ]
  },
  {
   "cell_type": "markdown",
   "id": "c3caec80",
   "metadata": {},
   "source": [
    "### iloc : 행 번호로 추출"
   ]
  },
  {
   "cell_type": "code",
   "execution_count": 23,
   "id": "707cb748",
   "metadata": {},
   "outputs": [
    {
     "name": "stdout",
     "output_type": "stream",
     "text": [
      "일시             2011-12-31 23:00\n",
      "구분                          강남구\n",
      "미세먼지(PM10)                 91.0\n",
      "초미세먼지(PM25)                58.0\n",
      "Name: 1, dtype: object\n",
      "일시             2008-01-01 1:00\n",
      "구분                         중랑구\n",
      "미세먼지(PM10)                71.0\n",
      "초미세먼지(PM25)               10.0\n",
      "Name: 902529, dtype: object\n"
     ]
    },
    {
     "data": {
      "text/plain": [
       "일시             2008-01-01 1:00\n",
       "구분                         중랑구\n",
       "미세먼지(PM10)                71.0\n",
       "초미세먼지(PM25)               10.0\n",
       "Name: 902529, dtype: object"
      ]
     },
     "execution_count": 23,
     "metadata": {},
     "output_type": "execute_result"
    }
   ],
   "source": [
    "print(data.iloc[1])\n",
    "print(data.iloc[row_size])\n",
    "data.iloc[-1] # loc와 달리 -1 사용가능 (맨 마지막행 추출)"
   ]
  },
  {
   "cell_type": "markdown",
   "id": "713b5b01",
   "metadata": {},
   "source": [
    "### iloc, loc에 속성 사용"
   ]
  },
  {
   "cell_type": "code",
   "execution_count": 24,
   "id": "9bfc7392",
   "metadata": {},
   "outputs": [
    {
     "data": {
      "text/html": [
       "<div>\n",
       "<style scoped>\n",
       "    .dataframe tbody tr th:only-of-type {\n",
       "        vertical-align: middle;\n",
       "    }\n",
       "\n",
       "    .dataframe tbody tr th {\n",
       "        vertical-align: top;\n",
       "    }\n",
       "\n",
       "    .dataframe thead th {\n",
       "        text-align: right;\n",
       "    }\n",
       "</style>\n",
       "<table border=\"1\" class=\"dataframe\">\n",
       "  <thead>\n",
       "    <tr style=\"text-align: right;\">\n",
       "      <th></th>\n",
       "      <th>일시</th>\n",
       "      <th>구분</th>\n",
       "    </tr>\n",
       "  </thead>\n",
       "  <tbody>\n",
       "    <tr>\n",
       "      <th>0</th>\n",
       "      <td>2011-12-31 23:00</td>\n",
       "      <td>평균</td>\n",
       "    </tr>\n",
       "    <tr>\n",
       "      <th>1</th>\n",
       "      <td>2011-12-31 23:00</td>\n",
       "      <td>강남구</td>\n",
       "    </tr>\n",
       "    <tr>\n",
       "      <th>2</th>\n",
       "      <td>2011-12-31 23:00</td>\n",
       "      <td>강동구</td>\n",
       "    </tr>\n",
       "    <tr>\n",
       "      <th>3</th>\n",
       "      <td>2011-12-31 23:00</td>\n",
       "      <td>강북구</td>\n",
       "    </tr>\n",
       "    <tr>\n",
       "      <th>4</th>\n",
       "      <td>2011-12-31 23:00</td>\n",
       "      <td>강서구</td>\n",
       "    </tr>\n",
       "  </tbody>\n",
       "</table>\n",
       "</div>"
      ],
      "text/plain": [
       "                 일시   구분\n",
       "0  2011-12-31 23:00   평균\n",
       "1  2011-12-31 23:00  강남구\n",
       "2  2011-12-31 23:00  강동구\n",
       "3  2011-12-31 23:00  강북구\n",
       "4  2011-12-31 23:00  강서구"
      ]
     },
     "execution_count": 24,
     "metadata": {},
     "output_type": "execute_result"
    }
   ],
   "source": [
    "# 슬라이싱으로 추출\n",
    "subset = data.loc[:, ['일시','구분']]\n",
    "subset.head()"
   ]
  },
  {
   "cell_type": "code",
   "execution_count": 54,
   "id": "3628eddc",
   "metadata": {},
   "outputs": [
    {
     "data": {
      "text/html": [
       "<div>\n",
       "<style scoped>\n",
       "    .dataframe tbody tr th:only-of-type {\n",
       "        vertical-align: middle;\n",
       "    }\n",
       "\n",
       "    .dataframe tbody tr th {\n",
       "        vertical-align: top;\n",
       "    }\n",
       "\n",
       "    .dataframe thead th {\n",
       "        text-align: right;\n",
       "    }\n",
       "</style>\n",
       "<table border=\"1\" class=\"dataframe\">\n",
       "  <thead>\n",
       "    <tr style=\"text-align: right;\">\n",
       "      <th></th>\n",
       "      <th>구분</th>\n",
       "      <th>미세먼지(PM10)</th>\n",
       "      <th>초미세먼지(PM25)</th>\n",
       "    </tr>\n",
       "  </thead>\n",
       "  <tbody>\n",
       "    <tr>\n",
       "      <th>0</th>\n",
       "      <td>평균</td>\n",
       "      <td>89.0</td>\n",
       "      <td>61.0</td>\n",
       "    </tr>\n",
       "    <tr>\n",
       "      <th>1</th>\n",
       "      <td>강남구</td>\n",
       "      <td>91.0</td>\n",
       "      <td>58.0</td>\n",
       "    </tr>\n",
       "    <tr>\n",
       "      <th>2</th>\n",
       "      <td>강동구</td>\n",
       "      <td>89.0</td>\n",
       "      <td>59.0</td>\n",
       "    </tr>\n",
       "    <tr>\n",
       "      <th>3</th>\n",
       "      <td>강북구</td>\n",
       "      <td>68.0</td>\n",
       "      <td>49.0</td>\n",
       "    </tr>\n",
       "    <tr>\n",
       "      <th>4</th>\n",
       "      <td>강서구</td>\n",
       "      <td>79.0</td>\n",
       "      <td>69.0</td>\n",
       "    </tr>\n",
       "    <tr>\n",
       "      <th>...</th>\n",
       "      <td>...</td>\n",
       "      <td>...</td>\n",
       "      <td>...</td>\n",
       "    </tr>\n",
       "    <tr>\n",
       "      <th>902525</th>\n",
       "      <td>용산구</td>\n",
       "      <td>75.0</td>\n",
       "      <td>18.0</td>\n",
       "    </tr>\n",
       "    <tr>\n",
       "      <th>902526</th>\n",
       "      <td>은평구</td>\n",
       "      <td>67.0</td>\n",
       "      <td>19.0</td>\n",
       "    </tr>\n",
       "    <tr>\n",
       "      <th>902527</th>\n",
       "      <td>종로구</td>\n",
       "      <td>56.0</td>\n",
       "      <td>11.0</td>\n",
       "    </tr>\n",
       "    <tr>\n",
       "      <th>902528</th>\n",
       "      <td>중구</td>\n",
       "      <td>58.0</td>\n",
       "      <td>11.0</td>\n",
       "    </tr>\n",
       "    <tr>\n",
       "      <th>902529</th>\n",
       "      <td>중랑구</td>\n",
       "      <td>71.0</td>\n",
       "      <td>10.0</td>\n",
       "    </tr>\n",
       "  </tbody>\n",
       "</table>\n",
       "<p>902530 rows × 3 columns</p>\n",
       "</div>"
      ],
      "text/plain": [
       "         구분  미세먼지(PM10)  초미세먼지(PM25)\n",
       "0        평균        89.0         61.0\n",
       "1       강남구        91.0         58.0\n",
       "2       강동구        89.0         59.0\n",
       "3       강북구        68.0         49.0\n",
       "4       강서구        79.0         69.0\n",
       "...     ...         ...          ...\n",
       "902525  용산구        75.0         18.0\n",
       "902526  은평구        67.0         19.0\n",
       "902527  종로구        56.0         11.0\n",
       "902528   중구        58.0         11.0\n",
       "902529  중랑구        71.0         10.0\n",
       "\n",
       "[902530 rows x 3 columns]"
      ]
     },
     "execution_count": 54,
     "metadata": {},
     "output_type": "execute_result"
    }
   ],
   "source": [
    "subset = data.iloc[:,[1,2,3]]\n",
    "subset"
   ]
  },
  {
   "cell_type": "markdown",
   "id": "15cd8b71",
   "metadata": {},
   "source": [
    "### loc : 문자열 리스트\n",
    "### iloc : 정수(열 번호) 리스트"
   ]
  },
  {
   "cell_type": "code",
   "execution_count": 26,
   "id": "630328db",
   "metadata": {},
   "outputs": [
    {
     "data": {
      "text/html": [
       "<div>\n",
       "<style scoped>\n",
       "    .dataframe tbody tr th:only-of-type {\n",
       "        vertical-align: middle;\n",
       "    }\n",
       "\n",
       "    .dataframe tbody tr th {\n",
       "        vertical-align: top;\n",
       "    }\n",
       "\n",
       "    .dataframe thead th {\n",
       "        text-align: right;\n",
       "    }\n",
       "</style>\n",
       "<table border=\"1\" class=\"dataframe\">\n",
       "  <thead>\n",
       "    <tr style=\"text-align: right;\">\n",
       "      <th></th>\n",
       "      <th>일시</th>\n",
       "      <th>구분</th>\n",
       "      <th>미세먼지(PM10)</th>\n",
       "    </tr>\n",
       "  </thead>\n",
       "  <tbody>\n",
       "    <tr>\n",
       "      <th>0</th>\n",
       "      <td>2011-12-31 23:00</td>\n",
       "      <td>평균</td>\n",
       "      <td>89.0</td>\n",
       "    </tr>\n",
       "    <tr>\n",
       "      <th>1</th>\n",
       "      <td>2011-12-31 23:00</td>\n",
       "      <td>강남구</td>\n",
       "      <td>91.0</td>\n",
       "    </tr>\n",
       "    <tr>\n",
       "      <th>2</th>\n",
       "      <td>2011-12-31 23:00</td>\n",
       "      <td>강동구</td>\n",
       "      <td>89.0</td>\n",
       "    </tr>\n",
       "    <tr>\n",
       "      <th>3</th>\n",
       "      <td>2011-12-31 23:00</td>\n",
       "      <td>강북구</td>\n",
       "      <td>68.0</td>\n",
       "    </tr>\n",
       "    <tr>\n",
       "      <th>4</th>\n",
       "      <td>2011-12-31 23:00</td>\n",
       "      <td>강서구</td>\n",
       "      <td>79.0</td>\n",
       "    </tr>\n",
       "    <tr>\n",
       "      <th>...</th>\n",
       "      <td>...</td>\n",
       "      <td>...</td>\n",
       "      <td>...</td>\n",
       "    </tr>\n",
       "    <tr>\n",
       "      <th>902525</th>\n",
       "      <td>2008-01-01 1:00</td>\n",
       "      <td>용산구</td>\n",
       "      <td>75.0</td>\n",
       "    </tr>\n",
       "    <tr>\n",
       "      <th>902526</th>\n",
       "      <td>2008-01-01 1:00</td>\n",
       "      <td>은평구</td>\n",
       "      <td>67.0</td>\n",
       "    </tr>\n",
       "    <tr>\n",
       "      <th>902527</th>\n",
       "      <td>2008-01-01 1:00</td>\n",
       "      <td>종로구</td>\n",
       "      <td>56.0</td>\n",
       "    </tr>\n",
       "    <tr>\n",
       "      <th>902528</th>\n",
       "      <td>2008-01-01 1:00</td>\n",
       "      <td>중구</td>\n",
       "      <td>58.0</td>\n",
       "    </tr>\n",
       "    <tr>\n",
       "      <th>902529</th>\n",
       "      <td>2008-01-01 1:00</td>\n",
       "      <td>중랑구</td>\n",
       "      <td>71.0</td>\n",
       "    </tr>\n",
       "  </tbody>\n",
       "</table>\n",
       "<p>902530 rows × 3 columns</p>\n",
       "</div>"
      ],
      "text/plain": [
       "                      일시   구분  미세먼지(PM10)\n",
       "0       2011-12-31 23:00   평균        89.0\n",
       "1       2011-12-31 23:00  강남구        91.0\n",
       "2       2011-12-31 23:00  강동구        89.0\n",
       "3       2011-12-31 23:00  강북구        68.0\n",
       "4       2011-12-31 23:00  강서구        79.0\n",
       "...                  ...  ...         ...\n",
       "902525   2008-01-01 1:00  용산구        75.0\n",
       "902526   2008-01-01 1:00  은평구        67.0\n",
       "902527   2008-01-01 1:00  종로구        56.0\n",
       "902528   2008-01-01 1:00   중구        58.0\n",
       "902529   2008-01-01 1:00  중랑구        71.0\n",
       "\n",
       "[902530 rows x 3 columns]"
      ]
     },
     "execution_count": 26,
     "metadata": {},
     "output_type": "execute_result"
    }
   ],
   "source": [
    "subset = data.loc[:,['일시','구분','미세먼지(PM10)']]\n",
    "subset"
   ]
  },
  {
   "cell_type": "markdown",
   "id": "39393695",
   "metadata": {},
   "source": [
    "### iloc는 range 객체로도 열추출 가능"
   ]
  },
  {
   "cell_type": "code",
   "execution_count": 27,
   "id": "f06e2e8e",
   "metadata": {},
   "outputs": [
    {
     "data": {
      "text/html": [
       "<div>\n",
       "<style scoped>\n",
       "    .dataframe tbody tr th:only-of-type {\n",
       "        vertical-align: middle;\n",
       "    }\n",
       "\n",
       "    .dataframe tbody tr th {\n",
       "        vertical-align: top;\n",
       "    }\n",
       "\n",
       "    .dataframe thead th {\n",
       "        text-align: right;\n",
       "    }\n",
       "</style>\n",
       "<table border=\"1\" class=\"dataframe\">\n",
       "  <thead>\n",
       "    <tr style=\"text-align: right;\">\n",
       "      <th></th>\n",
       "      <th>구분</th>\n",
       "      <th>미세먼지(PM10)</th>\n",
       "    </tr>\n",
       "  </thead>\n",
       "  <tbody>\n",
       "    <tr>\n",
       "      <th>0</th>\n",
       "      <td>평균</td>\n",
       "      <td>89.0</td>\n",
       "    </tr>\n",
       "    <tr>\n",
       "      <th>1</th>\n",
       "      <td>강남구</td>\n",
       "      <td>91.0</td>\n",
       "    </tr>\n",
       "    <tr>\n",
       "      <th>2</th>\n",
       "      <td>강동구</td>\n",
       "      <td>89.0</td>\n",
       "    </tr>\n",
       "    <tr>\n",
       "      <th>3</th>\n",
       "      <td>강북구</td>\n",
       "      <td>68.0</td>\n",
       "    </tr>\n",
       "    <tr>\n",
       "      <th>4</th>\n",
       "      <td>강서구</td>\n",
       "      <td>79.0</td>\n",
       "    </tr>\n",
       "    <tr>\n",
       "      <th>...</th>\n",
       "      <td>...</td>\n",
       "      <td>...</td>\n",
       "    </tr>\n",
       "    <tr>\n",
       "      <th>902525</th>\n",
       "      <td>용산구</td>\n",
       "      <td>75.0</td>\n",
       "    </tr>\n",
       "    <tr>\n",
       "      <th>902526</th>\n",
       "      <td>은평구</td>\n",
       "      <td>67.0</td>\n",
       "    </tr>\n",
       "    <tr>\n",
       "      <th>902527</th>\n",
       "      <td>종로구</td>\n",
       "      <td>56.0</td>\n",
       "    </tr>\n",
       "    <tr>\n",
       "      <th>902528</th>\n",
       "      <td>중구</td>\n",
       "      <td>58.0</td>\n",
       "    </tr>\n",
       "    <tr>\n",
       "      <th>902529</th>\n",
       "      <td>중랑구</td>\n",
       "      <td>71.0</td>\n",
       "    </tr>\n",
       "  </tbody>\n",
       "</table>\n",
       "<p>902530 rows × 2 columns</p>\n",
       "</div>"
      ],
      "text/plain": [
       "         구분  미세먼지(PM10)\n",
       "0        평균        89.0\n",
       "1       강남구        91.0\n",
       "2       강동구        89.0\n",
       "3       강북구        68.0\n",
       "4       강서구        79.0\n",
       "...     ...         ...\n",
       "902525  용산구        75.0\n",
       "902526  은평구        67.0\n",
       "902527  종로구        56.0\n",
       "902528   중구        58.0\n",
       "902529  중랑구        71.0\n",
       "\n",
       "[902530 rows x 2 columns]"
      ]
     },
     "execution_count": 27,
     "metadata": {},
     "output_type": "execute_result"
    }
   ],
   "source": [
    "small_range = list(range(1,3)) # list로 감싸줘야한다\n",
    "subset = data.iloc[:, small_range]\n",
    "subset"
   ]
  },
  {
   "cell_type": "markdown",
   "id": "77a6578c",
   "metadata": {},
   "source": [
    "### range 활용"
   ]
  },
  {
   "cell_type": "code",
   "execution_count": 28,
   "id": "3c18a0be",
   "metadata": {},
   "outputs": [
    {
     "data": {
      "text/html": [
       "<div>\n",
       "<style scoped>\n",
       "    .dataframe tbody tr th:only-of-type {\n",
       "        vertical-align: middle;\n",
       "    }\n",
       "\n",
       "    .dataframe tbody tr th {\n",
       "        vertical-align: top;\n",
       "    }\n",
       "\n",
       "    .dataframe thead th {\n",
       "        text-align: right;\n",
       "    }\n",
       "</style>\n",
       "<table border=\"1\" class=\"dataframe\">\n",
       "  <thead>\n",
       "    <tr style=\"text-align: right;\">\n",
       "      <th></th>\n",
       "      <th>구분</th>\n",
       "      <th>초미세먼지(PM25)</th>\n",
       "    </tr>\n",
       "  </thead>\n",
       "  <tbody>\n",
       "    <tr>\n",
       "      <th>0</th>\n",
       "      <td>평균</td>\n",
       "      <td>61.0</td>\n",
       "    </tr>\n",
       "    <tr>\n",
       "      <th>1</th>\n",
       "      <td>강남구</td>\n",
       "      <td>58.0</td>\n",
       "    </tr>\n",
       "    <tr>\n",
       "      <th>2</th>\n",
       "      <td>강동구</td>\n",
       "      <td>59.0</td>\n",
       "    </tr>\n",
       "    <tr>\n",
       "      <th>3</th>\n",
       "      <td>강북구</td>\n",
       "      <td>49.0</td>\n",
       "    </tr>\n",
       "    <tr>\n",
       "      <th>4</th>\n",
       "      <td>강서구</td>\n",
       "      <td>69.0</td>\n",
       "    </tr>\n",
       "    <tr>\n",
       "      <th>...</th>\n",
       "      <td>...</td>\n",
       "      <td>...</td>\n",
       "    </tr>\n",
       "    <tr>\n",
       "      <th>902525</th>\n",
       "      <td>용산구</td>\n",
       "      <td>18.0</td>\n",
       "    </tr>\n",
       "    <tr>\n",
       "      <th>902526</th>\n",
       "      <td>은평구</td>\n",
       "      <td>19.0</td>\n",
       "    </tr>\n",
       "    <tr>\n",
       "      <th>902527</th>\n",
       "      <td>종로구</td>\n",
       "      <td>11.0</td>\n",
       "    </tr>\n",
       "    <tr>\n",
       "      <th>902528</th>\n",
       "      <td>중구</td>\n",
       "      <td>11.0</td>\n",
       "    </tr>\n",
       "    <tr>\n",
       "      <th>902529</th>\n",
       "      <td>중랑구</td>\n",
       "      <td>10.0</td>\n",
       "    </tr>\n",
       "  </tbody>\n",
       "</table>\n",
       "<p>902530 rows × 2 columns</p>\n",
       "</div>"
      ],
      "text/plain": [
       "         구분  초미세먼지(PM25)\n",
       "0        평균         61.0\n",
       "1       강남구         58.0\n",
       "2       강동구         59.0\n",
       "3       강북구         49.0\n",
       "4       강서구         69.0\n",
       "...     ...          ...\n",
       "902525  용산구         18.0\n",
       "902526  은평구         19.0\n",
       "902527  종로구         11.0\n",
       "902528   중구         11.0\n",
       "902529  중랑구         10.0\n",
       "\n",
       "[902530 rows x 2 columns]"
      ]
     },
     "execution_count": 28,
     "metadata": {},
     "output_type": "execute_result"
    }
   ],
   "source": [
    "small_range = list(range(1,col_size+1,2))\n",
    "data.iloc[:, small_range]"
   ]
  },
  {
   "cell_type": "markdown",
   "id": "85d2fda7",
   "metadata": {},
   "source": [
    "### range객체 보다 간단한 슬라이싱"
   ]
  },
  {
   "cell_type": "code",
   "execution_count": 29,
   "id": "0af24f02",
   "metadata": {},
   "outputs": [
    {
     "data": {
      "text/html": [
       "<div>\n",
       "<style scoped>\n",
       "    .dataframe tbody tr th:only-of-type {\n",
       "        vertical-align: middle;\n",
       "    }\n",
       "\n",
       "    .dataframe tbody tr th {\n",
       "        vertical-align: top;\n",
       "    }\n",
       "\n",
       "    .dataframe thead th {\n",
       "        text-align: right;\n",
       "    }\n",
       "</style>\n",
       "<table border=\"1\" class=\"dataframe\">\n",
       "  <thead>\n",
       "    <tr style=\"text-align: right;\">\n",
       "      <th></th>\n",
       "      <th>구분</th>\n",
       "      <th>초미세먼지(PM25)</th>\n",
       "    </tr>\n",
       "  </thead>\n",
       "  <tbody>\n",
       "    <tr>\n",
       "      <th>0</th>\n",
       "      <td>평균</td>\n",
       "      <td>61.0</td>\n",
       "    </tr>\n",
       "    <tr>\n",
       "      <th>1</th>\n",
       "      <td>강남구</td>\n",
       "      <td>58.0</td>\n",
       "    </tr>\n",
       "    <tr>\n",
       "      <th>2</th>\n",
       "      <td>강동구</td>\n",
       "      <td>59.0</td>\n",
       "    </tr>\n",
       "    <tr>\n",
       "      <th>3</th>\n",
       "      <td>강북구</td>\n",
       "      <td>49.0</td>\n",
       "    </tr>\n",
       "    <tr>\n",
       "      <th>4</th>\n",
       "      <td>강서구</td>\n",
       "      <td>69.0</td>\n",
       "    </tr>\n",
       "    <tr>\n",
       "      <th>...</th>\n",
       "      <td>...</td>\n",
       "      <td>...</td>\n",
       "    </tr>\n",
       "    <tr>\n",
       "      <th>902525</th>\n",
       "      <td>용산구</td>\n",
       "      <td>18.0</td>\n",
       "    </tr>\n",
       "    <tr>\n",
       "      <th>902526</th>\n",
       "      <td>은평구</td>\n",
       "      <td>19.0</td>\n",
       "    </tr>\n",
       "    <tr>\n",
       "      <th>902527</th>\n",
       "      <td>종로구</td>\n",
       "      <td>11.0</td>\n",
       "    </tr>\n",
       "    <tr>\n",
       "      <th>902528</th>\n",
       "      <td>중구</td>\n",
       "      <td>11.0</td>\n",
       "    </tr>\n",
       "    <tr>\n",
       "      <th>902529</th>\n",
       "      <td>중랑구</td>\n",
       "      <td>10.0</td>\n",
       "    </tr>\n",
       "  </tbody>\n",
       "</table>\n",
       "<p>902530 rows × 2 columns</p>\n",
       "</div>"
      ],
      "text/plain": [
       "         구분  초미세먼지(PM25)\n",
       "0        평균         61.0\n",
       "1       강남구         58.0\n",
       "2       강동구         59.0\n",
       "3       강북구         49.0\n",
       "4       강서구         69.0\n",
       "...     ...          ...\n",
       "902525  용산구         18.0\n",
       "902526  은평구         19.0\n",
       "902527  종로구         11.0\n",
       "902528   중구         11.0\n",
       "902529  중랑구         10.0\n",
       "\n",
       "[902530 rows x 2 columns]"
      ]
     },
     "execution_count": 29,
     "metadata": {},
     "output_type": "execute_result"
    }
   ],
   "source": [
    "data.iloc[:, 1:col_size+1:2]"
   ]
  },
  {
   "cell_type": "markdown",
   "id": "a7746f25",
   "metadata": {},
   "source": [
    "### loc, iloc 활용"
   ]
  },
  {
   "cell_type": "code",
   "execution_count": 30,
   "id": "97068555",
   "metadata": {},
   "outputs": [
    {
     "data": {
      "text/html": [
       "<div>\n",
       "<style scoped>\n",
       "    .dataframe tbody tr th:only-of-type {\n",
       "        vertical-align: middle;\n",
       "    }\n",
       "\n",
       "    .dataframe tbody tr th {\n",
       "        vertical-align: top;\n",
       "    }\n",
       "\n",
       "    .dataframe thead th {\n",
       "        text-align: right;\n",
       "    }\n",
       "</style>\n",
       "<table border=\"1\" class=\"dataframe\">\n",
       "  <thead>\n",
       "    <tr style=\"text-align: right;\">\n",
       "      <th></th>\n",
       "      <th>일시</th>\n",
       "      <th>미세먼지(PM10)</th>\n",
       "    </tr>\n",
       "  </thead>\n",
       "  <tbody>\n",
       "    <tr>\n",
       "      <th>0</th>\n",
       "      <td>2011-12-31 23:00</td>\n",
       "      <td>89.0</td>\n",
       "    </tr>\n",
       "    <tr>\n",
       "      <th>99</th>\n",
       "      <td>2011-12-31 20:00</td>\n",
       "      <td>99.0</td>\n",
       "    </tr>\n",
       "    <tr>\n",
       "      <th>999</th>\n",
       "      <td>2011-12-30 9:00</td>\n",
       "      <td>97.0</td>\n",
       "    </tr>\n",
       "  </tbody>\n",
       "</table>\n",
       "</div>"
      ],
      "text/plain": [
       "                   일시  미세먼지(PM10)\n",
       "0    2011-12-31 23:00        89.0\n",
       "99   2011-12-31 20:00        99.0\n",
       "999   2011-12-30 9:00        97.0"
      ]
     },
     "execution_count": 30,
     "metadata": {},
     "output_type": "execute_result"
    }
   ],
   "source": [
    "data.iloc[[0,99,999],:col_size:2]"
   ]
  },
  {
   "cell_type": "code",
   "execution_count": 31,
   "id": "9bd961b7",
   "metadata": {},
   "outputs": [
    {
     "data": {
      "text/html": [
       "<div>\n",
       "<style scoped>\n",
       "    .dataframe tbody tr th:only-of-type {\n",
       "        vertical-align: middle;\n",
       "    }\n",
       "\n",
       "    .dataframe tbody tr th {\n",
       "        vertical-align: top;\n",
       "    }\n",
       "\n",
       "    .dataframe thead th {\n",
       "        text-align: right;\n",
       "    }\n",
       "</style>\n",
       "<table border=\"1\" class=\"dataframe\">\n",
       "  <thead>\n",
       "    <tr style=\"text-align: right;\">\n",
       "      <th></th>\n",
       "      <th>일시</th>\n",
       "      <th>구분</th>\n",
       "      <th>초미세먼지(PM25)</th>\n",
       "    </tr>\n",
       "  </thead>\n",
       "  <tbody>\n",
       "    <tr>\n",
       "      <th>0</th>\n",
       "      <td>2011-12-31 23:00</td>\n",
       "      <td>평균</td>\n",
       "      <td>61.0</td>\n",
       "    </tr>\n",
       "    <tr>\n",
       "      <th>99</th>\n",
       "      <td>2011-12-31 20:00</td>\n",
       "      <td>용산구</td>\n",
       "      <td>76.0</td>\n",
       "    </tr>\n",
       "    <tr>\n",
       "      <th>999</th>\n",
       "      <td>2011-12-30 9:00</td>\n",
       "      <td>동작구</td>\n",
       "      <td>76.0</td>\n",
       "    </tr>\n",
       "  </tbody>\n",
       "</table>\n",
       "</div>"
      ],
      "text/plain": [
       "                   일시   구분  초미세먼지(PM25)\n",
       "0    2011-12-31 23:00   평균         61.0\n",
       "99   2011-12-31 20:00  용산구         76.0\n",
       "999   2011-12-30 9:00  동작구         76.0"
      ]
     },
     "execution_count": 31,
     "metadata": {},
     "output_type": "execute_result"
    }
   ],
   "source": [
    "data.loc[[0,99,999],['일시','구분','초미세먼지(PM25)']]"
   ]
  },
  {
   "cell_type": "markdown",
   "id": "db83dd3a",
   "metadata": {},
   "source": [
    "### 우리동네 은평구의 통계랑"
   ]
  },
  {
   "cell_type": "code",
   "execution_count": 32,
   "id": "2fdfc693",
   "metadata": {},
   "outputs": [
    {
     "data": {
      "text/html": [
       "<div>\n",
       "<style scoped>\n",
       "    .dataframe tbody tr th:only-of-type {\n",
       "        vertical-align: middle;\n",
       "    }\n",
       "\n",
       "    .dataframe tbody tr th {\n",
       "        vertical-align: top;\n",
       "    }\n",
       "\n",
       "    .dataframe thead th {\n",
       "        text-align: right;\n",
       "    }\n",
       "</style>\n",
       "<table border=\"1\" class=\"dataframe\">\n",
       "  <thead>\n",
       "    <tr style=\"text-align: right;\">\n",
       "      <th></th>\n",
       "      <th>미세먼지(PM10)</th>\n",
       "      <th>초미세먼지(PM25)</th>\n",
       "    </tr>\n",
       "  </thead>\n",
       "  <tbody>\n",
       "    <tr>\n",
       "      <th>count</th>\n",
       "      <td>33893.000000</td>\n",
       "      <td>34263.000000</td>\n",
       "    </tr>\n",
       "    <tr>\n",
       "      <th>mean</th>\n",
       "      <td>50.248960</td>\n",
       "      <td>24.467210</td>\n",
       "    </tr>\n",
       "    <tr>\n",
       "      <th>std</th>\n",
       "      <td>42.210815</td>\n",
       "      <td>17.995298</td>\n",
       "    </tr>\n",
       "    <tr>\n",
       "      <th>min</th>\n",
       "      <td>1.000000</td>\n",
       "      <td>1.000000</td>\n",
       "    </tr>\n",
       "    <tr>\n",
       "      <th>25%</th>\n",
       "      <td>27.000000</td>\n",
       "      <td>13.000000</td>\n",
       "    </tr>\n",
       "    <tr>\n",
       "      <th>50%</th>\n",
       "      <td>42.000000</td>\n",
       "      <td>21.000000</td>\n",
       "    </tr>\n",
       "    <tr>\n",
       "      <th>75%</th>\n",
       "      <td>62.000000</td>\n",
       "      <td>31.000000</td>\n",
       "    </tr>\n",
       "    <tr>\n",
       "      <th>max</th>\n",
       "      <td>1172.000000</td>\n",
       "      <td>609.000000</td>\n",
       "    </tr>\n",
       "  </tbody>\n",
       "</table>\n",
       "</div>"
      ],
      "text/plain": [
       "         미세먼지(PM10)   초미세먼지(PM25)\n",
       "count  33893.000000  34263.000000\n",
       "mean      50.248960     24.467210\n",
       "std       42.210815     17.995298\n",
       "min        1.000000      1.000000\n",
       "25%       27.000000     13.000000\n",
       "50%       42.000000     21.000000\n",
       "75%       62.000000     31.000000\n",
       "max     1172.000000    609.000000"
      ]
     },
     "execution_count": 32,
     "metadata": {},
     "output_type": "execute_result"
    }
   ],
   "source": [
    "eunpyeong = data.loc[data['구분']=='은평구']\n",
    "eunpyeong.describe()"
   ]
  },
  {
   "cell_type": "markdown",
   "id": "e6025b68",
   "metadata": {},
   "source": [
    "### 특정한 하나의 값을 구할때는 at, iat이 좋다"
   ]
  },
  {
   "cell_type": "code",
   "execution_count": 33,
   "id": "b6399ab8",
   "metadata": {},
   "outputs": [
    {
     "data": {
      "text/plain": [
       "50.24895996223409"
      ]
     },
     "execution_count": 33,
     "metadata": {},
     "output_type": "execute_result"
    }
   ],
   "source": [
    "ep_avg = eunpyeong.describe().at['mean','미세먼지(PM10)'] # 은평구의 미세먼지 평균 ep_avg\n",
    "ep_avg"
   ]
  },
  {
   "cell_type": "markdown",
   "id": "137b8dc8",
   "metadata": {},
   "source": [
    "### 구 별 평균 미세먼지"
   ]
  },
  {
   "cell_type": "code",
   "execution_count": 34,
   "id": "66e8d8e7",
   "metadata": {},
   "outputs": [
    {
     "data": {
      "text/html": [
       "<div>\n",
       "<style scoped>\n",
       "    .dataframe tbody tr th:only-of-type {\n",
       "        vertical-align: middle;\n",
       "    }\n",
       "\n",
       "    .dataframe tbody tr th {\n",
       "        vertical-align: top;\n",
       "    }\n",
       "\n",
       "    .dataframe thead th {\n",
       "        text-align: right;\n",
       "    }\n",
       "</style>\n",
       "<table border=\"1\" class=\"dataframe\">\n",
       "  <thead>\n",
       "    <tr style=\"text-align: right;\">\n",
       "      <th></th>\n",
       "      <th>미세먼지(PM10)</th>\n",
       "      <th>초미세먼지(PM25)</th>\n",
       "    </tr>\n",
       "    <tr>\n",
       "      <th>구분</th>\n",
       "      <th></th>\n",
       "      <th></th>\n",
       "    </tr>\n",
       "  </thead>\n",
       "  <tbody>\n",
       "    <tr>\n",
       "      <th>강남구</th>\n",
       "      <td>53.078047</td>\n",
       "      <td>27.503309</td>\n",
       "    </tr>\n",
       "    <tr>\n",
       "      <th>강동구</th>\n",
       "      <td>49.784002</td>\n",
       "      <td>24.671487</td>\n",
       "    </tr>\n",
       "    <tr>\n",
       "      <th>강북구</th>\n",
       "      <td>48.211873</td>\n",
       "      <td>28.086203</td>\n",
       "    </tr>\n",
       "    <tr>\n",
       "      <th>강서구</th>\n",
       "      <td>53.111209</td>\n",
       "      <td>28.098605</td>\n",
       "    </tr>\n",
       "    <tr>\n",
       "      <th>관악구</th>\n",
       "      <td>53.926797</td>\n",
       "      <td>27.017526</td>\n",
       "    </tr>\n",
       "  </tbody>\n",
       "</table>\n",
       "</div>"
      ],
      "text/plain": [
       "     미세먼지(PM10)  초미세먼지(PM25)\n",
       "구분                          \n",
       "강남구   53.078047    27.503309\n",
       "강동구   49.784002    24.671487\n",
       "강북구   48.211873    28.086203\n",
       "강서구   53.111209    28.098605\n",
       "관악구   53.926797    27.017526"
      ]
     },
     "execution_count": 34,
     "metadata": {},
     "output_type": "execute_result"
    }
   ],
   "source": [
    "dist = data.groupby('구분')\n",
    "dist.mean(numeric_only=True).head(5)"
   ]
  },
  {
   "cell_type": "markdown",
   "id": "e5db244e",
   "metadata": {},
   "source": [
    "### 은평구 평균값(ep_avg)보다 평균이 높은 구"
   ]
  },
  {
   "cell_type": "code",
   "execution_count": 35,
   "id": "b04720be",
   "metadata": {},
   "outputs": [
    {
     "data": {
      "text/html": [
       "<div>\n",
       "<style scoped>\n",
       "    .dataframe tbody tr th:only-of-type {\n",
       "        vertical-align: middle;\n",
       "    }\n",
       "\n",
       "    .dataframe tbody tr th {\n",
       "        vertical-align: top;\n",
       "    }\n",
       "\n",
       "    .dataframe thead th {\n",
       "        text-align: right;\n",
       "    }\n",
       "</style>\n",
       "<table border=\"1\" class=\"dataframe\">\n",
       "  <thead>\n",
       "    <tr style=\"text-align: right;\">\n",
       "      <th></th>\n",
       "      <th>미세먼지(PM10)</th>\n",
       "    </tr>\n",
       "    <tr>\n",
       "      <th>구분</th>\n",
       "      <th></th>\n",
       "    </tr>\n",
       "  </thead>\n",
       "  <tbody>\n",
       "    <tr>\n",
       "      <th>강남구</th>\n",
       "      <td>53.078047</td>\n",
       "    </tr>\n",
       "    <tr>\n",
       "      <th>강서구</th>\n",
       "      <td>53.111209</td>\n",
       "    </tr>\n",
       "    <tr>\n",
       "      <th>관악구</th>\n",
       "      <td>53.926797</td>\n",
       "    </tr>\n",
       "    <tr>\n",
       "      <th>구로구</th>\n",
       "      <td>52.493868</td>\n",
       "    </tr>\n",
       "    <tr>\n",
       "      <th>금천구</th>\n",
       "      <td>50.532163</td>\n",
       "    </tr>\n",
       "    <tr>\n",
       "      <th>동대문구</th>\n",
       "      <td>50.785502</td>\n",
       "    </tr>\n",
       "    <tr>\n",
       "      <th>동작구</th>\n",
       "      <td>52.530660</td>\n",
       "    </tr>\n",
       "    <tr>\n",
       "      <th>마포구</th>\n",
       "      <td>54.882809</td>\n",
       "    </tr>\n",
       "    <tr>\n",
       "      <th>서대문구</th>\n",
       "      <td>52.852961</td>\n",
       "    </tr>\n",
       "    <tr>\n",
       "      <th>서초구</th>\n",
       "      <td>52.589327</td>\n",
       "    </tr>\n",
       "    <tr>\n",
       "      <th>성동구</th>\n",
       "      <td>52.024158</td>\n",
       "    </tr>\n",
       "    <tr>\n",
       "      <th>영등포구</th>\n",
       "      <td>52.617344</td>\n",
       "    </tr>\n",
       "    <tr>\n",
       "      <th>용산구</th>\n",
       "      <td>52.356291</td>\n",
       "    </tr>\n",
       "    <tr>\n",
       "      <th>중구</th>\n",
       "      <td>50.439306</td>\n",
       "    </tr>\n",
       "    <tr>\n",
       "      <th>중랑구</th>\n",
       "      <td>51.519223</td>\n",
       "    </tr>\n",
       "    <tr>\n",
       "      <th>평균</th>\n",
       "      <td>51.238456</td>\n",
       "    </tr>\n",
       "  </tbody>\n",
       "</table>\n",
       "</div>"
      ],
      "text/plain": [
       "      미세먼지(PM10)\n",
       "구분              \n",
       "강남구    53.078047\n",
       "강서구    53.111209\n",
       "관악구    53.926797\n",
       "구로구    52.493868\n",
       "금천구    50.532163\n",
       "동대문구   50.785502\n",
       "동작구    52.530660\n",
       "마포구    54.882809\n",
       "서대문구   52.852961\n",
       "서초구    52.589327\n",
       "성동구    52.024158\n",
       "영등포구   52.617344\n",
       "용산구    52.356291\n",
       "중구     50.439306\n",
       "중랑구    51.519223\n",
       "평균     51.238456"
      ]
     },
     "execution_count": 35,
     "metadata": {},
     "output_type": "execute_result"
    }
   ],
   "source": [
    "dist_mean = dist.mean(numeric_only=True)\n",
    "dist_mean_dust = dist_mean[dist_mean['미세먼지(PM10)'] > ep_avg][['미세먼지(PM10)']] # ep_avg = 50.24895996223409\n",
    "dist_mean_dust"
   ]
  },
  {
   "cell_type": "markdown",
   "id": "ecc972bc",
   "metadata": {},
   "source": [
    "### 보기좋게 그래프로 시각화"
   ]
  },
  {
   "cell_type": "code",
   "execution_count": 38,
   "id": "edb0cab7",
   "metadata": {},
   "outputs": [
    {
     "data": {
      "image/png": "[encoded data removed]",
      "text/plain": [
       "<Figure size 1080x360 with 1 Axes>"
      ]
     },
     "metadata": {
      "needs_background": "light"
     },
     "output_type": "display_data"
    }
   ],
   "source": [
    "plt.figure(figsize=(15,5))\n",
    "plt.plot(dist_mean_dust.index, '미세먼지(PM10)', 'o-r', data=dist_mean_dust) # dist_mean_dust : 은평구보다 평균 미세먼지가 높은 구\n",
    "plt.ylabel('미세먼지(PM10)')\n",
    "plt.show()"
   ]
  },
  {
   "cell_type": "markdown",
   "id": "1cca8fa2",
   "metadata": {},
   "source": [
    "### 산점도"
   ]
  },
  {
   "cell_type": "code",
   "execution_count": 39,
   "id": "5970a2d4",
   "metadata": {},
   "outputs": [
    {
     "data": {
      "image/png": "[encoded data removed]",
      "text/plain": [
       "<Figure size 936x360 with 1 Axes>"
      ]
     },
     "metadata": {
      "needs_background": "light"
     },
     "output_type": "display_data"
    }
   ],
   "source": [
    "plt.figure(figsize=(13,5))\n",
    "plt.scatter(dist_mean_dust.index,'미세먼지(PM10)', data=dist_mean_dust)\n",
    "plt.ylabel('미세먼지(PM10)')\n",
    "plt.show()"
   ]
  },
  {
   "cell_type": "code",
   "execution_count": null,
   "id": "7034e735",
   "metadata": {},
   "outputs": [],
   "source": []
  }
 ],
 "metadata": {
  "kernelspec": {
   "display_name": "Python 3",
   "language": "python",
   "name": "python3"
  },
  "language_info": {
   "codemirror_mode": {
    "name": "ipython",
    "version": 3
   },
   "file_extension": ".py",
   "mimetype": "text/x-python",
   "name": "python",
   "nbconvert_exporter": "python",
   "pygments_lexer": "ipython3",
   "version": "3.8.8"
  }
 },
 "nbformat": 4,
 "nbformat_minor": 5
}
